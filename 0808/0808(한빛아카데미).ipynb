{
  "nbformat": 4,
  "nbformat_minor": 0,
  "metadata": {
    "colab": {
      "name": "0808(한빛아카데미).ipynb",
      "provenance": [],
      "collapsed_sections": []
    },
    "kernelspec": {
      "name": "python3",
      "display_name": "Python 3"
    },
    "language_info": {
      "name": "python"
    }
  },
  "cells": [
    {
      "cell_type": "code",
      "source": [
        "import requests\n",
        "import pandas as pd\n",
        "from tqdm import tqdm\n",
        "from bs4 import BeautifulSoup"
      ],
      "metadata": {
        "id": "6AjTndrKNsuk"
      },
      "execution_count": null,
      "outputs": []
    },
    {
      "cell_type": "code",
      "source": [
        "base_url = 'https://www.hanbit.co.kr'\n",
        "sub_url = '/academy/books/new_book_list.html'\n",
        "url = base_url + sub_url + '?page=' + str(1)\n",
        "req = requests.get(url)\n",
        "soup = BeautifulSoup(req.text, 'html.parser')"
      ],
      "metadata": {
        "id": "YTM0F9alOjby"
      },
      "execution_count": null,
      "outputs": []
    },
    {
      "cell_type": "code",
      "source": [
        "lis = soup.select('li.sub_book_list')\n",
        "len(lis)"
      ],
      "metadata": {
        "colab": {
          "base_uri": "https://localhost:8080/"
        },
        "id": "RDzKqA_MROqg",
        "outputId": "ae6115d9-f003-4a8c-e646-3e5869313d48"
      },
      "execution_count": null,
      "outputs": [
        {
          "output_type": "execute_result",
          "data": {
            "text/plain": [
              "20"
            ]
          },
          "metadata": {},
          "execution_count": 3
        }
      ]
    },
    {
      "cell_type": "code",
      "source": [
        "li = lis[0]\n",
        "href = li.find('a')['href']\n",
        "href"
      ],
      "metadata": {
        "colab": {
          "base_uri": "https://localhost:8080/",
          "height": 35
        },
        "id": "Mbfw1K4KR_07",
        "outputId": "a82d935e-5fe5-4e62-c088-4a0a7b8a1c6b"
      },
      "execution_count": null,
      "outputs": [
        {
          "output_type": "execute_result",
          "data": {
            "text/plain": [
              "'/academy/books/book_view.html?p_code=B8672666879'"
            ],
            "application/vnd.google.colaboratory.intrinsic+json": {
              "type": "string"
            }
          },
          "metadata": {},
          "execution_count": 4
        }
      ]
    },
    {
      "cell_type": "code",
      "source": [
        "sub_req = requests.get(base_url + href)\n",
        "sub_soup = BeautifulSoup(sub_req.text, 'html.parser')"
      ],
      "metadata": {
        "id": "sfHQCdDdTJ5p"
      },
      "execution_count": null,
      "outputs": []
    },
    {
      "cell_type": "code",
      "source": [
        "title = sub_soup.select_one('.store_product_info_box > h3').get_text().strip()\n",
        "title"
      ],
      "metadata": {
        "colab": {
          "base_uri": "https://localhost:8080/",
          "height": 35
        },
        "id": "dXaoIW-4Uk6b",
        "outputId": "261efe31-ccb4-404c-98ea-1ad9ec5cd8d7"
      },
      "execution_count": null,
      "outputs": [
        {
          "output_type": "execute_result",
          "data": {
            "text/plain": [
              "'STEM CookBook, 문제 해결력을 키우는 기계설계'"
            ],
            "application/vnd.google.colaboratory.intrinsic+json": {
              "type": "string"
            }
          },
          "metadata": {},
          "execution_count": 6
        }
      ]
    },
    {
      "cell_type": "code",
      "source": [
        "info2 = sub_soup.select_one('.info_list')\n",
        "info2"
      ],
      "metadata": {
        "colab": {
          "base_uri": "https://localhost:8080/"
        },
        "id": "TYKSmp5yT32q",
        "outputId": "70fd5a6a-0b34-4a5c-c824-ccfaca72c2cd"
      },
      "execution_count": null,
      "outputs": [
        {
          "output_type": "execute_result",
          "data": {
            "text/plain": [
              "<ul class=\"info_list\">\n",
              "<li><strong>저자 : </strong><span>이상범 </span></li>\n",
              "<li><strong>출간 : </strong><span>2022-08-05</span></li>\n",
              "<li><strong>페이지 : </strong><span>680 쪽</span></li>\n",
              "<li><strong>ISBN : </strong><span>9791156646150</span></li>\n",
              "<li><strong>물류코드 :</strong><span>4615</span></li>\n",
              "</ul>"
            ]
          },
          "metadata": {},
          "execution_count": 13
        }
      ]
    },
    {
      "cell_type": "code",
      "source": [
        "info = sub_soup.select('.info_list > li')\n",
        "info"
      ],
      "metadata": {
        "colab": {
          "base_uri": "https://localhost:8080/"
        },
        "id": "u07fKJ5qWcx1",
        "outputId": "7b8f0de2-a99d-4dfd-ea69-f69f11ffd19e"
      },
      "execution_count": null,
      "outputs": [
        {
          "output_type": "execute_result",
          "data": {
            "text/plain": [
              "[<li><strong>저자 : </strong><span>이상범 </span></li>,\n",
              " <li><strong>출간 : </strong><span>2022-08-05</span></li>,\n",
              " <li><strong>페이지 : </strong><span>680 쪽</span></li>,\n",
              " <li><strong>ISBN : </strong><span>9791156646150</span></li>,\n",
              " <li><strong>물류코드 :</strong><span>4615</span></li>]"
            ]
          },
          "metadata": {},
          "execution_count": 7
        }
      ]
    },
    {
      "cell_type": "code",
      "source": [
        "i_d = {}\n",
        "for i in info:\n",
        "  key = i.find('strong').get_text().split(' ')[0]\n",
        "  val = i.find('span').get_text().strip()\n",
        "  i_d[key] = val\n",
        "\n",
        "i_d"
      ],
      "metadata": {
        "colab": {
          "base_uri": "https://localhost:8080/"
        },
        "id": "8T3mO8wUWiLZ",
        "outputId": "626601a1-8b72-4c5a-c938-8a50587ae38e"
      },
      "execution_count": null,
      "outputs": [
        {
          "output_type": "execute_result",
          "data": {
            "text/plain": [
              "{'ISBN': '9791156646150',\n",
              " '물류코드': '4615',\n",
              " '저자': '이상범',\n",
              " '출간': '2022-08-05',\n",
              " '페이지': '680 쪽'}"
            ]
          },
          "metadata": {},
          "execution_count": 8
        }
      ]
    },
    {
      "cell_type": "code",
      "source": [
        "i_d"
      ],
      "metadata": {
        "colab": {
          "base_uri": "https://localhost:8080/"
        },
        "id": "H7RbcYObfLyc",
        "outputId": "6785addd-07f6-446d-90fb-a12f04c14031"
      },
      "execution_count": null,
      "outputs": [
        {
          "output_type": "execute_result",
          "data": {
            "text/plain": [
              "{'ISBN': '9791156646150',\n",
              " '물류코드': '4615',\n",
              " '저자': '이상범',\n",
              " '출간': '2022-08-05',\n",
              " '페이지': '680 쪽'}"
            ]
          },
          "metadata": {},
          "execution_count": 9
        }
      ]
    },
    {
      "cell_type": "code",
      "source": [
        "author = i_d['저자']\n",
        "try:\n",
        "  translator = i_d['번역']\n",
        "except:\n",
        "  translator = '-'\n",
        "date = i_d['출간']\n",
        "page = i_d['페이지'].split(' ')[0].replace(',', '')"
      ],
      "metadata": {
        "id": "E4ygSQY1bMS8"
      },
      "execution_count": null,
      "outputs": []
    },
    {
      "cell_type": "code",
      "source": [
        "translator"
      ],
      "metadata": {
        "colab": {
          "base_uri": "https://localhost:8080/",
          "height": 35
        },
        "id": "wUyq05zHgO21",
        "outputId": "135e07ef-0a93-4956-92b4-76c6fe8bcaef"
      },
      "execution_count": null,
      "outputs": [
        {
          "output_type": "execute_result",
          "data": {
            "text/plain": [
              "'-'"
            ],
            "application/vnd.google.colaboratory.intrinsic+json": {
              "type": "string"
            }
          },
          "metadata": {},
          "execution_count": 17
        }
      ]
    },
    {
      "cell_type": "code",
      "source": [
        "del b_l"
      ],
      "metadata": {
        "id": "lvtrS3D_gc4k"
      },
      "execution_count": null,
      "outputs": []
    },
    {
      "cell_type": "code",
      "source": [
        "price = int(sub_soup.select_one('.pbr > strong').get_text().replace(',',''))\n",
        "price"
      ],
      "metadata": {
        "colab": {
          "base_uri": "https://localhost:8080/"
        },
        "id": "x-XaIW1_cqnO",
        "outputId": "ae6efbcf-03ef-4d5f-e54d-df1dbc63afaa"
      },
      "execution_count": null,
      "outputs": [
        {
          "output_type": "execute_result",
          "data": {
            "text/plain": [
              "34000"
            ]
          },
          "metadata": {},
          "execution_count": 11
        }
      ]
    },
    {
      "cell_type": "code",
      "source": [
        "b_l = []\n",
        "for page in tqdm(range(1,11)):\n",
        "  url = url = base_url + sub_url + '?page=' + str(page)\n",
        "  req = requests.get(url)\n",
        "  soup = BeautifulSoup(req.text, 'html.parser')\n",
        "  lis = soup.select('li.sub_book_list')\n",
        "\n",
        "\n",
        "  for i in lis:\n",
        "    href = i.find('a')['href']\n",
        "    sub_req = requests.get(base_url + href)\n",
        "    sub_soup = BeautifulSoup(sub_req.text, 'html.parser')\n",
        "    title = sub_soup.select_one('.store_product_info_box > h3').get_text().strip()\n",
        "    info = sub_soup.select('.info_list > li')\n",
        "    i_d = {}\n",
        "    for i in info:\n",
        "      key = i.find('strong').get_text().split(' ')[0]\n",
        "      val = i.find('span').get_text().strip()\n",
        "      i_d[key] = val\n",
        "    author = i_d['저자']\n",
        "    try:\n",
        "      translator = i_d['번역']\n",
        "    except:\n",
        "      translator = '-'\n",
        "    date = i_d['출간']\n",
        "    page = i_d['페이지'].split(' ')[0].replace(',', '')\n",
        "    price = int(sub_soup.select_one('.pbr > strong').get_text().replace(',',''))\n",
        "    b_l.append([title, author, translator, date, page, price])"
      ],
      "metadata": {
        "colab": {
          "base_uri": "https://localhost:8080/"
        },
        "id": "Q-Axm87odOK8",
        "outputId": "5c1d124f-f8e9-465e-e785-d04399ad966d"
      },
      "execution_count": null,
      "outputs": [
        {
          "output_type": "stream",
          "name": "stderr",
          "text": [
            "100%|██████████| 10/10 [05:11<00:00, 31.18s/it]\n"
          ]
        }
      ]
    },
    {
      "cell_type": "code",
      "source": [
        "df = pd.DataFrame(b_l, columns = ['제목', '저자', '번역', '출간', '페이지', '가격'])"
      ],
      "metadata": {
        "id": "8BqW0RuaeCh0"
      },
      "execution_count": null,
      "outputs": []
    },
    {
      "cell_type": "code",
      "source": [
        "df.to_csv('hanbit_new_books.csv', index = False)"
      ],
      "metadata": {
        "id": "JGCUy66Vjv42"
      },
      "execution_count": null,
      "outputs": []
    }
  ]
}