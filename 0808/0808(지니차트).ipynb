{
  "nbformat": 4,
  "nbformat_minor": 0,
  "metadata": {
    "colab": {
      "name": "0808(지니차트).ipynb",
      "provenance": [],
      "collapsed_sections": []
    },
    "kernelspec": {
      "name": "python3",
      "display_name": "Python 3"
    },
    "language_info": {
      "name": "python"
    }
  },
  "cells": [
    {
      "cell_type": "markdown",
      "source": [
        "여러 페이지에 있는 데이터 가져오기"
      ],
      "metadata": {
        "id": "jMmnaW55_pRX"
      }
    },
    {
      "cell_type": "code",
      "source": [
        "from bs4 import BeautifulSoup\n",
        "import requests\n",
        "import numpy as np\n",
        "import pandas as pd"
      ],
      "metadata": {
        "id": "7xVr85EFAJbl"
      },
      "execution_count": 1,
      "outputs": []
    },
    {
      "cell_type": "code",
      "execution_count": 2,
      "metadata": {
        "id": "sYd2dCRD_fHN"
      },
      "outputs": [],
      "source": [
        "url = 'https://www.genie.co.kr/chart/top200'\n",
        "header = {'User-Agent' : 'Mozilla/5.0 (Windows NT 10.0; Win64; x64) AppleWebKit/537.36 (KHTML, like Gecko) Chrome/102.0.5005.141 Whale/3.15.136.29 Safari/537.36'}\n",
        "req = requests.get(url, headers = header)\n",
        "soup = BeautifulSoup(req.text, 'html.parser')"
      ]
    },
    {
      "cell_type": "code",
      "source": [
        "# 2~ 페이지\n",
        "'''\n",
        "https://www.genie.co.kr/chart/top200?ditc=D&ymd=20220808&hh=10&rtm=Y&pg=1\n",
        "https://www.genie.co.kr/chart/top200?ditc=D&ymd=20220808&hh=10&rtm=Y&pg=2\n",
        "https://www.genie.co.kr/chart/top200?ditc=D&ymd=20220808&hh=10&rtm=Y&pg=3\n",
        "https://www.genie.co.kr/chart/top200?ditc=D&ymd=20220808&hh=10&rtm=Y&pg=4\n",
        "'''"
      ],
      "metadata": {
        "id": "skYnVAvPAaUN"
      },
      "execution_count": null,
      "outputs": []
    },
    {
      "cell_type": "code",
      "source": [
        "base_url = 'https://www.genie.co.kr/chart/top200?ditc=D&ymd=20220808&hh=10&rtm=Y&pg='\n",
        "url = base_url + str(1)"
      ],
      "metadata": {
        "id": "Kgw7xeQ-BE8O"
      },
      "execution_count": 3,
      "outputs": []
    },
    {
      "cell_type": "markdown",
      "source": [
        "원하는 목록 찾기"
      ],
      "metadata": {
        "id": "VbpNScVJCf9e"
      }
    },
    {
      "cell_type": "code",
      "source": [
        "# tr 태그의 클래스명이 list일 때\n",
        "trs = soup.select('tr.list')\n",
        "#trs = soup.select('div > table > tbody > tr')\n",
        "len(trs)"
      ],
      "metadata": {
        "colab": {
          "base_uri": "https://localhost:8080/"
        },
        "id": "obwucdrGBml1",
        "outputId": "a6764959-2457-4d95-9e0e-ed168ccae039"
      },
      "execution_count": 4,
      "outputs": [
        {
          "output_type": "execute_result",
          "data": {
            "text/plain": [
              "50"
            ]
          },
          "metadata": {},
          "execution_count": 4
        }
      ]
    },
    {
      "cell_type": "code",
      "source": [
        "trs = soup.select('div > table > tbody > tr')\n",
        "len(trs)"
      ],
      "metadata": {
        "colab": {
          "base_uri": "https://localhost:8080/"
        },
        "id": "uQSzuwwbCN_3",
        "outputId": "01c6beba-eb72-43a5-96b1-4dbab36532b5"
      },
      "execution_count": 4,
      "outputs": [
        {
          "output_type": "execute_result",
          "data": {
            "text/plain": [
              "50"
            ]
          },
          "metadata": {},
          "execution_count": 4
        }
      ]
    },
    {
      "cell_type": "markdown",
      "source": [
        "데이터 하나를 선택해 원하는 정보 추출"
      ],
      "metadata": {
        "id": "WM4WA8wMCiE-"
      }
    },
    {
      "cell_type": "code",
      "source": [
        "tr = trs[0]"
      ],
      "metadata": {
        "id": "IixYUqOMC5_J"
      },
      "execution_count": 5,
      "outputs": []
    },
    {
      "cell_type": "code",
      "source": [
        "rank = tr.select_one('.number').get_text()\n",
        "rank"
      ],
      "metadata": {
        "colab": {
          "base_uri": "https://localhost:8080/",
          "height": 35
        },
        "id": "9Fzx10H9CaXu",
        "outputId": "361adee8-66d6-44d4-995d-77568bfe8615"
      },
      "execution_count": 6,
      "outputs": [
        {
          "output_type": "execute_result",
          "data": {
            "text/plain": [
              "'1\\n                                        \\n                                    \\n유지\\n\\n'"
            ],
            "application/vnd.google.colaboratory.intrinsic+json": {
              "type": "string"
            }
          },
          "metadata": {},
          "execution_count": 6
        }
      ]
    },
    {
      "cell_type": "code",
      "source": [
        "rank.split('\\n')[0]"
      ],
      "metadata": {
        "colab": {
          "base_uri": "https://localhost:8080/",
          "height": 35
        },
        "id": "9mVnbvp8DETP",
        "outputId": "7db7c70b-caf3-4040-dbca-a5ece4b6d086"
      },
      "execution_count": 7,
      "outputs": [
        {
          "output_type": "execute_result",
          "data": {
            "text/plain": [
              "'1'"
            ],
            "application/vnd.google.colaboratory.intrinsic+json": {
              "type": "string"
            }
          },
          "metadata": {},
          "execution_count": 7
        }
      ]
    },
    {
      "cell_type": "code",
      "source": [
        "# 순위\n",
        "rank = int(tr.select_one('.number').get_text().split('\\n')[0])\n",
        "rank"
      ],
      "metadata": {
        "colab": {
          "base_uri": "https://localhost:8080/"
        },
        "id": "WC6qxrifDSb0",
        "outputId": "e2db970a-8773-491b-a6ab-22a5368be967"
      },
      "execution_count": 8,
      "outputs": [
        {
          "output_type": "execute_result",
          "data": {
            "text/plain": [
              "1"
            ]
          },
          "metadata": {},
          "execution_count": 8
        }
      ]
    },
    {
      "cell_type": "code",
      "source": [
        "# 제목\n",
        "title = tr.select_one('.title.ellipsis').get_text().split('\\n')[-1].strip()\n",
        "title"
      ],
      "metadata": {
        "colab": {
          "base_uri": "https://localhost:8080/",
          "height": 35
        },
        "id": "vsGNP5a7DXGv",
        "outputId": "98e6b112-9844-4d82-c7fd-a38eb372b2a9"
      },
      "execution_count": 9,
      "outputs": [
        {
          "output_type": "execute_result",
          "data": {
            "text/plain": [
              "'그때 그 순간 그대로 (그그그)'"
            ],
            "application/vnd.google.colaboratory.intrinsic+json": {
              "type": "string"
            }
          },
          "metadata": {},
          "execution_count": 9
        }
      ]
    },
    {
      "cell_type": "code",
      "source": [
        "# 제목\n",
        "artist = tr.select_one('.artist.ellipsis').get_text().strip()\n",
        "artist"
      ],
      "metadata": {
        "colab": {
          "base_uri": "https://localhost:8080/",
          "height": 35
        },
        "id": "tdDo-k59DxVe",
        "outputId": "7014285b-1946-4060-e73e-aaf125c479ff"
      },
      "execution_count": 10,
      "outputs": [
        {
          "output_type": "execute_result",
          "data": {
            "text/plain": [
              "'WSG워너비 (가야G)'"
            ],
            "application/vnd.google.colaboratory.intrinsic+json": {
              "type": "string"
            }
          },
          "metadata": {},
          "execution_count": 10
        }
      ]
    },
    {
      "cell_type": "code",
      "source": [
        "# 앨범\n",
        "album = tr.select_one('.albumtitle.ellipsis').get_text().strip()\n",
        "album"
      ],
      "metadata": {
        "colab": {
          "base_uri": "https://localhost:8080/",
          "height": 35
        },
        "id": "B2V3kDsHD6Ff",
        "outputId": "46061150-15fb-4136-d8b5-fec7b79dd5ba"
      },
      "execution_count": 11,
      "outputs": [
        {
          "output_type": "execute_result",
          "data": {
            "text/plain": [
              "'WSG워너비 1집'"
            ],
            "application/vnd.google.colaboratory.intrinsic+json": {
              "type": "string"
            }
          },
          "metadata": {},
          "execution_count": 11
        }
      ]
    },
    {
      "cell_type": "markdown",
      "source": [
        "한 페이지 내의 정보"
      ],
      "metadata": {
        "id": "BxPbd3j7EXAO"
      }
    },
    {
      "cell_type": "code",
      "source": [
        "genie_list = []\n",
        "for i in trs:\n",
        "  rank = int(i.select_one('.number').get_text().split('\\n')[0])\n",
        "  title = i.select_one('.title.ellipsis').get_text().split('\\n')[-1].strip()\n",
        "  artist = i.select_one('.artist.ellipsis').get_text().strip()\n",
        "  album = i.select_one('.albumtitle.ellipsis').get_text().strip()\n",
        "  genie_list.append([rank, title, artist, album])"
      ],
      "metadata": {
        "id": "2sGT4eBsEWph"
      },
      "execution_count": 12,
      "outputs": []
    },
    {
      "cell_type": "code",
      "source": [
        "del genie_list"
      ],
      "metadata": {
        "id": "lomBELQDFfIH"
      },
      "execution_count": 13,
      "outputs": []
    },
    {
      "cell_type": "code",
      "source": [
        "base_url"
      ],
      "metadata": {
        "colab": {
          "base_uri": "https://localhost:8080/",
          "height": 35
        },
        "id": "fXy7s6WzGOse",
        "outputId": "484f9197-a75a-4b29-aae7-fef642b8527b"
      },
      "execution_count": 14,
      "outputs": [
        {
          "output_type": "execute_result",
          "data": {
            "text/plain": [
              "'https://www.genie.co.kr/chart/top200?ditc=D&ymd=20220808&hh=10&rtm=Y&pg='"
            ],
            "application/vnd.google.colaboratory.intrinsic+json": {
              "type": "string"
            }
          },
          "metadata": {},
          "execution_count": 14
        }
      ]
    },
    {
      "cell_type": "code",
      "source": [
        "genie_list = []\n",
        "\n",
        "for page in range(1,5):\n",
        "  url = base_url + str(page)\n",
        "  req = requests.get(url, headers = header)\n",
        "  soup = BeautifulSoup(req.text, 'html.parser')\n",
        "  trs = soup.select('tr.list')\n",
        "  for i in trs:\n",
        "    rank = int(i.select_one('.number').get_text().split('\\n')[0])\n",
        "    title = i.select_one('.title.ellipsis').get_text().split('\\n')[-1].strip()\n",
        "    artist = i.select_one('.artist.ellipsis').get_text().strip()\n",
        "    album = i.select_one('.albumtitle.ellipsis').get_text().strip()\n",
        "    genie_list.append([rank, title, artist, album])"
      ],
      "metadata": {
        "id": "_sUabWlZEwhc"
      },
      "execution_count": 16,
      "outputs": []
    },
    {
      "cell_type": "code",
      "source": [
        "df = pd.DataFrame(genie_list, columns = ['순위', '제목', '가수', '앨범'])"
      ],
      "metadata": {
        "id": "yTlNMxv2FW0v"
      },
      "execution_count": 27,
      "outputs": []
    },
    {
      "cell_type": "code",
      "source": [
        "df"
      ],
      "metadata": {
        "colab": {
          "base_uri": "https://localhost:8080/",
          "height": 520
        },
        "id": "BpkkpJ_oIxSn",
        "outputId": "f959f097-095f-4fd9-a097-88596334c3f9"
      },
      "execution_count": 29,
      "outputs": [
        {
          "output_type": "execute_result",
          "data": {
            "text/plain": [
              "      순위                                            제목  \\\n",
              "0      1                             그때 그 순간 그대로 (그그그)   \n",
              "1      2                                     Attention   \n",
              "2      3                                         보고싶었어   \n",
              "3      4                                     LOVE DIVE   \n",
              "4      5                                      SNEAKERS   \n",
              "..   ...                                           ...   \n",
              "195  196                                  Shape Of You   \n",
              "196  197                                  Light Switch   \n",
              "197  198                      Summer (Feat. BE'O (비오))   \n",
              "198  199  Savage Love (Laxed - Siren Beat) (BTS Remix)   \n",
              "199  200                                            시작   \n",
              "\n",
              "                                   가수  \\\n",
              "0                        WSG워너비 (가야G)   \n",
              "1                            NewJeans   \n",
              "2                      WSG워너비 (4FIRE)   \n",
              "3                           IVE (아이브)   \n",
              "4                           ITZY (있지)   \n",
              "..                                ...   \n",
              "195                        Ed Sheeran   \n",
              "196                      Charlie Puth   \n",
              "197                       Paul Blanco   \n",
              "198  Jawsh 685 & Jason Derulo & 방탄소년단   \n",
              "199                         가호 (Gaho)   \n",
              "\n",
              "                                               앨범  \n",
              "0                                       WSG워너비 1집  \n",
              "1                     NewJeans 1st EP 'New Jeans'  \n",
              "2                                       WSG워너비 1집  \n",
              "3                                       LOVE DIVE  \n",
              "4                                       CHECKMATE  \n",
              "..                                            ...  \n",
              "195                                    ÷ (Deluxe)  \n",
              "196                              That's Hilarious  \n",
              "197                                        Summer  \n",
              "198  Savage Love (Laxed - Siren Beat) (BTS Remix)  \n",
              "199               이태원 클라쓰 OST Part.2 (JTBC 금토드라마)  \n",
              "\n",
              "[200 rows x 4 columns]"
            ],
            "text/html": [
              "\n",
              "  <div id=\"df-e1d704e0-089e-4f28-b8d2-0d10261bfd31\">\n",
              "    <div class=\"colab-df-container\">\n",
              "      <div>\n",
              "<style scoped>\n",
              "    .dataframe tbody tr th:only-of-type {\n",
              "        vertical-align: middle;\n",
              "    }\n",
              "\n",
              "    .dataframe tbody tr th {\n",
              "        vertical-align: top;\n",
              "    }\n",
              "\n",
              "    .dataframe thead th {\n",
              "        text-align: right;\n",
              "    }\n",
              "</style>\n",
              "<table border=\"1\" class=\"dataframe\">\n",
              "  <thead>\n",
              "    <tr style=\"text-align: right;\">\n",
              "      <th></th>\n",
              "      <th>순위</th>\n",
              "      <th>제목</th>\n",
              "      <th>가수</th>\n",
              "      <th>앨범</th>\n",
              "    </tr>\n",
              "  </thead>\n",
              "  <tbody>\n",
              "    <tr>\n",
              "      <th>0</th>\n",
              "      <td>1</td>\n",
              "      <td>그때 그 순간 그대로 (그그그)</td>\n",
              "      <td>WSG워너비 (가야G)</td>\n",
              "      <td>WSG워너비 1집</td>\n",
              "    </tr>\n",
              "    <tr>\n",
              "      <th>1</th>\n",
              "      <td>2</td>\n",
              "      <td>Attention</td>\n",
              "      <td>NewJeans</td>\n",
              "      <td>NewJeans 1st EP 'New Jeans'</td>\n",
              "    </tr>\n",
              "    <tr>\n",
              "      <th>2</th>\n",
              "      <td>3</td>\n",
              "      <td>보고싶었어</td>\n",
              "      <td>WSG워너비 (4FIRE)</td>\n",
              "      <td>WSG워너비 1집</td>\n",
              "    </tr>\n",
              "    <tr>\n",
              "      <th>3</th>\n",
              "      <td>4</td>\n",
              "      <td>LOVE DIVE</td>\n",
              "      <td>IVE (아이브)</td>\n",
              "      <td>LOVE DIVE</td>\n",
              "    </tr>\n",
              "    <tr>\n",
              "      <th>4</th>\n",
              "      <td>5</td>\n",
              "      <td>SNEAKERS</td>\n",
              "      <td>ITZY (있지)</td>\n",
              "      <td>CHECKMATE</td>\n",
              "    </tr>\n",
              "    <tr>\n",
              "      <th>...</th>\n",
              "      <td>...</td>\n",
              "      <td>...</td>\n",
              "      <td>...</td>\n",
              "      <td>...</td>\n",
              "    </tr>\n",
              "    <tr>\n",
              "      <th>195</th>\n",
              "      <td>196</td>\n",
              "      <td>Shape Of You</td>\n",
              "      <td>Ed Sheeran</td>\n",
              "      <td>÷ (Deluxe)</td>\n",
              "    </tr>\n",
              "    <tr>\n",
              "      <th>196</th>\n",
              "      <td>197</td>\n",
              "      <td>Light Switch</td>\n",
              "      <td>Charlie Puth</td>\n",
              "      <td>That's Hilarious</td>\n",
              "    </tr>\n",
              "    <tr>\n",
              "      <th>197</th>\n",
              "      <td>198</td>\n",
              "      <td>Summer (Feat. BE'O (비오))</td>\n",
              "      <td>Paul Blanco</td>\n",
              "      <td>Summer</td>\n",
              "    </tr>\n",
              "    <tr>\n",
              "      <th>198</th>\n",
              "      <td>199</td>\n",
              "      <td>Savage Love (Laxed - Siren Beat) (BTS Remix)</td>\n",
              "      <td>Jawsh 685 &amp; Jason Derulo &amp; 방탄소년단</td>\n",
              "      <td>Savage Love (Laxed - Siren Beat) (BTS Remix)</td>\n",
              "    </tr>\n",
              "    <tr>\n",
              "      <th>199</th>\n",
              "      <td>200</td>\n",
              "      <td>시작</td>\n",
              "      <td>가호 (Gaho)</td>\n",
              "      <td>이태원 클라쓰 OST Part.2 (JTBC 금토드라마)</td>\n",
              "    </tr>\n",
              "  </tbody>\n",
              "</table>\n",
              "<p>200 rows × 4 columns</p>\n",
              "</div>\n",
              "      <button class=\"colab-df-convert\" onclick=\"convertToInteractive('df-e1d704e0-089e-4f28-b8d2-0d10261bfd31')\"\n",
              "              title=\"Convert this dataframe to an interactive table.\"\n",
              "              style=\"display:none;\">\n",
              "        \n",
              "  <svg xmlns=\"http://www.w3.org/2000/svg\" height=\"24px\"viewBox=\"0 0 24 24\"\n",
              "       width=\"24px\">\n",
              "    <path d=\"M0 0h24v24H0V0z\" fill=\"none\"/>\n",
              "    <path d=\"M18.56 5.44l.94 2.06.94-2.06 2.06-.94-2.06-.94-.94-2.06-.94 2.06-2.06.94zm-11 1L8.5 8.5l.94-2.06 2.06-.94-2.06-.94L8.5 2.5l-.94 2.06-2.06.94zm10 10l.94 2.06.94-2.06 2.06-.94-2.06-.94-.94-2.06-.94 2.06-2.06.94z\"/><path d=\"M17.41 7.96l-1.37-1.37c-.4-.4-.92-.59-1.43-.59-.52 0-1.04.2-1.43.59L10.3 9.45l-7.72 7.72c-.78.78-.78 2.05 0 2.83L4 21.41c.39.39.9.59 1.41.59.51 0 1.02-.2 1.41-.59l7.78-7.78 2.81-2.81c.8-.78.8-2.07 0-2.86zM5.41 20L4 18.59l7.72-7.72 1.47 1.35L5.41 20z\"/>\n",
              "  </svg>\n",
              "      </button>\n",
              "      \n",
              "  <style>\n",
              "    .colab-df-container {\n",
              "      display:flex;\n",
              "      flex-wrap:wrap;\n",
              "      gap: 12px;\n",
              "    }\n",
              "\n",
              "    .colab-df-convert {\n",
              "      background-color: #E8F0FE;\n",
              "      border: none;\n",
              "      border-radius: 50%;\n",
              "      cursor: pointer;\n",
              "      display: none;\n",
              "      fill: #1967D2;\n",
              "      height: 32px;\n",
              "      padding: 0 0 0 0;\n",
              "      width: 32px;\n",
              "    }\n",
              "\n",
              "    .colab-df-convert:hover {\n",
              "      background-color: #E2EBFA;\n",
              "      box-shadow: 0px 1px 2px rgba(60, 64, 67, 0.3), 0px 1px 3px 1px rgba(60, 64, 67, 0.15);\n",
              "      fill: #174EA6;\n",
              "    }\n",
              "\n",
              "    [theme=dark] .colab-df-convert {\n",
              "      background-color: #3B4455;\n",
              "      fill: #D2E3FC;\n",
              "    }\n",
              "\n",
              "    [theme=dark] .colab-df-convert:hover {\n",
              "      background-color: #434B5C;\n",
              "      box-shadow: 0px 1px 3px 1px rgba(0, 0, 0, 0.15);\n",
              "      filter: drop-shadow(0px 1px 2px rgba(0, 0, 0, 0.3));\n",
              "      fill: #FFFFFF;\n",
              "    }\n",
              "  </style>\n",
              "\n",
              "      <script>\n",
              "        const buttonEl =\n",
              "          document.querySelector('#df-e1d704e0-089e-4f28-b8d2-0d10261bfd31 button.colab-df-convert');\n",
              "        buttonEl.style.display =\n",
              "          google.colab.kernel.accessAllowed ? 'block' : 'none';\n",
              "\n",
              "        async function convertToInteractive(key) {\n",
              "          const element = document.querySelector('#df-e1d704e0-089e-4f28-b8d2-0d10261bfd31');\n",
              "          const dataTable =\n",
              "            await google.colab.kernel.invokeFunction('convertToInteractive',\n",
              "                                                     [key], {});\n",
              "          if (!dataTable) return;\n",
              "\n",
              "          const docLinkHtml = 'Like what you see? Visit the ' +\n",
              "            '<a target=\"_blank\" href=https://colab.research.google.com/notebooks/data_table.ipynb>data table notebook</a>'\n",
              "            + ' to learn more about interactive tables.';\n",
              "          element.innerHTML = '';\n",
              "          dataTable['output_type'] = 'display_data';\n",
              "          await google.colab.output.renderOutput(dataTable, element);\n",
              "          const docLink = document.createElement('div');\n",
              "          docLink.innerHTML = docLinkHtml;\n",
              "          element.appendChild(docLink);\n",
              "        }\n",
              "      </script>\n",
              "    </div>\n",
              "  </div>\n",
              "  "
            ]
          },
          "metadata": {},
          "execution_count": 29
        }
      ]
    },
    {
      "cell_type": "code",
      "source": [
        "df.to_csv('Genie_Top200_220808.csv', index=False)"
      ],
      "metadata": {
        "id": "WpX927HwJAxP"
      },
      "execution_count": 30,
      "outputs": []
    }
  ]
}