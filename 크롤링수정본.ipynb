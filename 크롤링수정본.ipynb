{
  "cells": [
    {
      "cell_type": "code",
      "execution_count": null,
      "metadata": {
        "id": "0xKu7oiM00IX"
      },
      "outputs": [],
      "source": [
        "!apt-get update > /dev/null 2>&1\n",
        "!pip install selenium > /dev/null 2>&1\n",
        "!apt install chromium-chromedriver > /dev/null 2>&1"
      ]
    },
    {
      "cell_type": "code",
      "execution_count": null,
      "metadata": {
        "id": "yXQ6hx1owZyX"
      },
      "outputs": [],
      "source": [
        "import time # 새로운 페이지로 셀레니음 웹드라이버가 넘어갈 때마다 잠시 멈춰주는 역할을 위해 불러옴. \n",
        "# 멈춰주지 않으면 페이지가 다 로딩되기도 전에 다음 코드를 실행해버리는 불상사가 생김. 그걸 막아준다.\n",
        "from selenium import webdriver # 웹드라이버. 코랩이라 우리가 직접 볼 순 없지만 얘가 돌아다니면서 일을 해줌\n",
        "from selenium.webdriver.common.keys import Keys # 이 파일에선 아직 딱히 쓰지 않은듯\n",
        "from selenium.webdriver.common.by import By # element를 찾을 때 쓰이는 parameter를 불러오는 역할\n",
        "import pandas as pd \n",
        "from bs4 import BeautifulSoup # html 요소에 접근해서 정보를 빼내올 때 씀\n",
        "from tqdm import tqdm\n",
        "import pickle\n",
        "import numpy as np\n",
        "from urllib.parse import quote # 주소창에 한글을 입력할 때 변환하는 메서드"
      ]
    },
    {
      "cell_type": "code",
      "execution_count": null,
      "metadata": {
        "id": "sVtLGVtQwZwG"
      },
      "outputs": [],
      "source": [
        "import warnings # 사실 잘 모르지만 선생님이 하셨던거 암튼 가져옴\n",
        "warnings.filterwarnings('ignore')"
      ]
    },
    {
      "cell_type": "code",
      "execution_count": null,
      "metadata": {
        "id": "jq3oekSjwZuH"
      },
      "outputs": [],
      "source": [
        "#크롬 드라이버의 각종 옵션들 생성 및 적용.\n",
        "options = webdriver.ChromeOptions()\n",
        "options.add_argument('--headless') # 화면없이 실행\n",
        "options.add_argument('--no-sandbox')\n",
        "options.add_argument('--single-process')\n",
        "options.add_argument('--disable-dev-shm-usage')\n",
        "options.add_argument('user-agent=Mozilla/5.0 (Windows NT 10.0; Win64; x64) AppleWebKit/537.36 (KHTML, like Gecko) Chrome/104.0.5112.87 Whale/3.16.138.22 Safari/537.36') # 나는 기계가 아니고 사람이에요\n",
        "driver = webdriver.Chrome('chromedriver', options=options)"
      ]
    },
    {
      "cell_type": "code",
      "execution_count": null,
      "metadata": {
        "id": "wsSgnivPwZrn"
      },
      "outputs": [],
      "source": [
        "url = 'https://www.melon.com/genre/song_list.htm?gnrCode=GN0100'"
      ]
    },
    {
      "cell_type": "code",
      "execution_count": null,
      "metadata": {
        "id": "Gxr-2xyFwg6G"
      },
      "outputs": [],
      "source": [
        "driver.get(url)"
      ]
    },
    {
      "cell_type": "code",
      "execution_count": null,
      "metadata": {
        "id": "hZ3vLMzvzd2v"
      },
      "outputs": [],
      "source": [
        "soup = BeautifulSoup(driver.page_source, 'html.parser')"
      ]
    },
    {
      "cell_type": "code",
      "execution_count": null,
      "metadata": {
        "colab": {
          "base_uri": "https://localhost:8080/",
          "height": 35
        },
        "id": "EQJx7POizd0d",
        "outputId": "8fb5137c-0a8f-43d5-bc09-5adde7224a6c"
      },
      "outputs": [
        {
          "data": {
            "application/vnd.google.colaboratory.intrinsic+json": {
              "type": "string"
            },
            "text/plain": [
              "'35541726'"
            ]
          },
          "execution_count": 12,
          "metadata": {},
          "output_type": "execute_result"
        }
      ],
      "source": [
        "buttons = soup.select('.input_check')\n",
        "buttons[50]['value']"
      ]
    },
    {
      "cell_type": "code",
      "execution_count": null,
      "metadata": {
        "id": "bTdTTwxFzdyc"
      },
      "outputs": [],
      "source": [
        "song_url_base = 'https://www.melon.com/song/detail.htm?songId='\n",
        "song_url = song_url_base + buttons[1]['value']\n",
        "driver.get(song_url)"
      ]
    },
    {
      "cell_type": "code",
      "execution_count": null,
      "metadata": {
        "colab": {
          "base_uri": "https://localhost:8080/",
          "height": 108
        },
        "id": "ThXS1YEmzdv0",
        "outputId": "93093002-35cd-4663-93f3-319cb42e0909"
      },
      "outputs": [
        {
          "data": {
            "application/vnd.google.colaboratory.intrinsic+json": {
              "type": "string"
            },
            "text/plain": [
              "'착한 아이처럼\\n말만 잘 들으라 해서\\n시키는 대로 했는데\\n자꾸 지겨워 해\\n내가 봐도\\n나는 정말 쉬웠어\\n난 울다가도\\n사랑 주면 웃었어\\n늘 나를 쉽게 다루는 건\\n막대사탕 같은 사랑\\n향기 가득 배어 있는 단물이\\n꼭 보기 좋게 물 들은 혀 끝이\\n나 혼자 가진 매력인 듯\\n착각 속에 빠졌지만\\n착한 아이처럼\\n말만 잘 들으라 해서\\n시키는 대로 했는데\\n자꾸 지겨워 해\\n아무리 떼를 써도\\n차라리 토라져봐도\\n남자가 주는 이별에\\n항상 울기만 해\\n호기심에 다가오던 사랑이\\n내게 싫증 내고서 떠나도\\n아이같이 금방 잊고\\n다시 사랑받길 원해\\n착한 아이처럼\\n말만 잘 들으라 해서\\n시키는 대로 했는데\\n자꾸 지겨워 해\\n아무리 떼를 써도\\n차라리 토라져봐도\\n남자가 주는 이별에\\n항상 울기만 해\\n(남자들은 다) 난 믿지 않아\\n(언제나 아픈 사랑도) 더 하지 않아\\n(매일 밤 혼잣말로만) 날 위로해도\\n난 사랑 없이 못 사나 봐\\n첫 사랑에 속고\\n또 다른 시작을 해도\\n어느새 손을 놓은 채\\n모두 떠나가네\\n한숨이 늘어가고\\n눈물이 나를 적셔도\\n반복된 사랑놀이에\\n울고 웃네'"
            ]
          },
          "execution_count": 14,
          "metadata": {},
          "output_type": "execute_result"
        }
      ],
      "source": [
        "text = driver.find_element(By.CSS_SELECTOR, '#d_video_summary').text.replace('\\n\\n','\\n')\n",
        "text"
      ]
    },
    {
      "cell_type": "code",
      "source": [
        "url = 'https://www.melon.com/genre/song_list.htm?gnrCode=GN0100'"
      ],
      "metadata": {
        "id": "3Y1yT-JiYPka"
      },
      "execution_count": null,
      "outputs": []
    },
    {
      "cell_type": "code",
      "source": [
        "driver.get(url)"
      ],
      "metadata": {
        "id": "fwWHrIbsYR0F"
      },
      "execution_count": null,
      "outputs": []
    },
    {
      "cell_type": "code",
      "source": [
        "driver.find_element(By.XPATH, //*[@id=\"conts\"]/div[2]/ul/li[2]/a/span).click()"
      ],
      "metadata": {
        "id": "engUvfCZYGpG"
      },
      "execution_count": null,
      "outputs": []
    },
    {
      "cell_type": "code",
      "execution_count": null,
      "metadata": {
        "id": "mMPps9X6zdtW"
      },
      "outputs": [],
      "source": [
        "song_url_base = 'https://www.melon.com/song/detail.htm?songId='\n",
        "url = 'https://www.melon.com/genre/song_list.htm?gnrCode=GN0100'\n",
        "sentences = [[] for _ in range(7)]\n",
        "for i in range(7):\n",
        "    driver.get(url)\n",
        "    time.sleep(1)\n",
        "    if i != 1:\n",
        "        driver.find_element(By.XPATH, f'//*[@id=\"conts\"]/div[2]/ul/li[{i+1}]/a/span').click()\n",
        "    soup = BeautifulSoup(driver.page_source, 'html.parser')\n",
        "    buttons = soup.select('.input_check')\n",
        "    for bt in tqdm(buttons):\n",
        "        try:\n",
        "          song_url = song_url_base+bt['value']\n",
        "          driver.get(song_url)\n",
        "          time.sleep(1)\n",
        "          text = driver.find_element(By.CSS_SELECTOR, '#d_video_summary').text.replace('\\n\\n','\\n')\n",
        "          sentences[i].append(text.split('\\n'))\n",
        "        except:\n",
        "          continue"
      ]
    },
    {
      "cell_type": "code",
      "source": [
        "song_url_base = 'https://www.melon.com/song/detail.htm?songId='\n",
        "url = 'https://www.melon.com/genre/song_list.htm?gnrCode=GN0100'\n",
        "sentences = [[] for _ in range(7)]\n",
        "for i in range(7):\n",
        "  driver.get(url)\n",
        "  time.sleep(1)\n",
        "  if i != 1:\n",
        "    driver.find_element(By.XPATH, f'//*[@id=\"conts\"]/div[2]/ul/li[{i+1}]/a/span').click()\n",
        "  for j in range(10):\n",
        "    if j != 0:\n",
        "      time.sleep(1)\n",
        "      driver.find_element(By.XPATH, f'//*[@id=\"pageObjNavgation\"]/div/span/a[{j}]').click()\n",
        "    soup = BeautifulSoup(driver.page_source, 'html.parser')\n",
        "    buttons = soup.select('.input_check')\n",
        "    for bt in tqdm(buttons):\n",
        "      try:\n",
        "        song_url = song_url_base+bt['value']\n",
        "        driver.get(song_url)\n",
        "        time.sleep(1)\n",
        "        text = driver.find_element(By.CSS_SELECTOR, '#d_video_summary').text.replace('\\n\\n','\\n')\n",
        "        sentences[i].append(text.split('\\n'))\n",
        "      except:\n",
        "        continue"
      ],
      "metadata": {
        "id": "6FKyHCFmMpRO"
      },
      "execution_count": null,
      "outputs": []
    },
    {
      "cell_type": "code",
      "execution_count": null,
      "metadata": {
        "id": "7ev066E6xe1n"
      },
      "outputs": [],
      "source": [
        "//*[@id=\"pageObjNavgation\"]/div/span/a[1]\n",
        "//*[@id=\"pageObjNavgation\"]/div/span/a[2]"
      ]
    },
    {
      "cell_type": "code",
      "execution_count": null,
      "metadata": {
        "id": "3ZwbMYmuxezx"
      },
      "outputs": [],
      "source": [
        "#pageObjNavgation > div > span > a:nth-child(3)"
      ]
    }
  ],
  "metadata": {
    "colab": {
      "name": "크롤링수정본.ipynb",
      "provenance": [],
      "collapsed_sections": []
    },
    "kernelspec": {
      "display_name": "Python 3",
      "name": "python3"
    },
    "language_info": {
      "name": "python"
    }
  },
  "nbformat": 4,
  "nbformat_minor": 0
}